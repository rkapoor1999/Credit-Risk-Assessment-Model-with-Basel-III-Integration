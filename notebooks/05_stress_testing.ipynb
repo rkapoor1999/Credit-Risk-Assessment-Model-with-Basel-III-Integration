{
 "cells": [
  {
   "cell_type": "code",
   "execution_count": 1,
   "metadata": {},
   "outputs": [],
   "source": [
    "import pandas as pd\n",
    "import numpy as np\n",
    "import matplotlib.pyplot as plt\n",
    "import seaborn as sns"
   ]
  },
  {
   "cell_type": "code",
   "execution_count": 8,
   "metadata": {},
   "outputs": [],
   "source": [
    "# Risk weights based on Basel III standards\n",
    "def assign_basel_risk_weight(pd_value):\n",
    "    # Simplified risk weight assignment based on Basel III\n",
    "    if pd_value <= 0.05:\n",
    "        return 0.5  # 50% risk weight\n",
    "    elif pd_value <= 0.10:\n",
    "        return 0.75  # 75% risk weight\n",
    "    elif pd_value <= 0.30:\n",
    "        return 1.0  # 100% risk weight\n",
    "    else:\n",
    "        return 1.5  # 150% risk weight"
   ]
  },
  {
   "cell_type": "code",
   "execution_count": 3,
   "metadata": {},
   "outputs": [],
   "source": [
    "# Load Basel risk calculations\n",
    "loans_df_test = pd.read_csv('../data/processed/basel_risk_calculations.csv')"
   ]
  },
  {
   "cell_type": "code",
   "execution_count": 4,
   "metadata": {},
   "outputs": [],
   "source": [
    "# Create stress scenario functions\n",
    "def apply_stress_scenario(base_pd, scenario='moderate'):\n",
    "    \"\"\"Apply stress multipliers to PD values\"\"\"\n",
    "    scenarios = {\n",
    "        'mild': 1.5,       # 50% increase in defaults\n",
    "        'moderate': 2.0,   # Double defaults\n",
    "        'severe': 3.0      # Triple defaults\n",
    "    }\n",
    "    \n",
    "    multiplier = scenarios.get(scenario, 1.0)\n",
    "    stressed_pd = base_pd * multiplier\n",
    "    \n",
    "    # Cap at 1.0\n",
    "    return np.minimum(stressed_pd, 1.0)\n"
   ]
  },
  {
   "cell_type": "code",
   "execution_count": 9,
   "metadata": {},
   "outputs": [],
   "source": [
    "# Apply moderate stress scenario\n",
    "loans_df_test['Stressed_PD'] = apply_stress_scenario(loans_df_test['PD'], scenario='moderate')\n",
    "loans_df_test['Stressed_EL'] = loans_df_test['Stressed_PD'] * loans_df_test['LGD'] * loans_df_test['EAD']\n",
    "loans_df_test['Stressed_RiskWeight'] = loans_df_test['Stressed_PD'].apply(lambda x: assign_basel_risk_weight(x))\n",
    "loans_df_test['Stressed_RWA'] = loans_df_test['EAD'] * loans_df_test['Stressed_RiskWeight']"
   ]
  },
  {
   "cell_type": "code",
   "execution_count": 10,
   "metadata": {},
   "outputs": [],
   "source": [
    "# Portfolio level calculations\n",
    "total_exposure = loans_df_test['EAD'].sum()\n",
    "total_rwa = loans_df_test['RWA'].sum()\n",
    "total_stressed_rwa = loans_df_test['Stressed_RWA'].sum()"
   ]
  },
  {
   "cell_type": "code",
   "execution_count": 11,
   "metadata": {},
   "outputs": [],
   "source": [
    "# Basel III minimum capital requirements\n",
    "tier1_capital_ratio = 0.06  # 6%\n",
    "total_capital_ratio = 0.08  # 8%\n",
    "conservation_buffer = 0.025  # 2.5%"
   ]
  },
  {
   "cell_type": "code",
   "execution_count": 12,
   "metadata": {},
   "outputs": [],
   "source": [
    "# Calculate minimum capital requirements\n",
    "min_tier1_capital = total_rwa * tier1_capital_ratio\n",
    "min_total_capital = total_rwa * total_capital_ratio\n",
    "min_capital_with_buffer = total_rwa * (total_capital_ratio + conservation_buffer)"
   ]
  },
  {
   "cell_type": "code",
   "execution_count": 13,
   "metadata": {},
   "outputs": [],
   "source": [
    "# Calculate stressed capital requirements\n",
    "stressed_min_tier1_capital = total_stressed_rwa * tier1_capital_ratio\n",
    "stressed_min_total_capital = total_stressed_rwa * total_capital_ratio\n",
    "stressed_min_capital_with_buffer = total_stressed_rwa * (total_capital_ratio + conservation_buffer)\n"
   ]
  },
  {
   "cell_type": "code",
   "execution_count": 14,
   "metadata": {},
   "outputs": [
    {
     "name": "stdout",
     "output_type": "stream",
     "text": [
      "Total Exposure: $6,916,273,475.00\n",
      "Total Risk-Weighted Assets: $6,056,394,025.00\n",
      "Minimum Tier 1 Capital Required: $363,383,641.50\n",
      "Minimum Total Capital Required: $484,511,522.00\n",
      "Minimum Capital with Conservation Buffer: $635,921,372.63\n",
      "\n",
      "Stressed Scenario:\n",
      "Total Stressed Risk-Weighted Assets: $7,727,702,381.25\n",
      "Stressed Capital Required: $618,216,190.50\n"
     ]
    }
   ],
   "source": [
    "# Display results\n",
    "print(f\"Total Exposure: ${total_exposure:,.2f}\")\n",
    "print(f\"Total Risk-Weighted Assets: ${total_rwa:,.2f}\")\n",
    "print(f\"Minimum Tier 1 Capital Required: ${min_tier1_capital:,.2f}\")\n",
    "print(f\"Minimum Total Capital Required: ${min_total_capital:,.2f}\")\n",
    "print(f\"Minimum Capital with Conservation Buffer: ${min_capital_with_buffer:,.2f}\")\n",
    "print(\"\\nStressed Scenario:\")\n",
    "print(f\"Total Stressed Risk-Weighted Assets: ${total_stressed_rwa:,.2f}\")\n",
    "print(f\"Stressed Capital Required: ${stressed_min_total_capital:,.2f}\")"
   ]
  },
  {
   "cell_type": "code",
   "execution_count": 15,
   "metadata": {},
   "outputs": [],
   "source": [
    "# Save stress test results\n",
    "stress_results = pd.DataFrame({\n",
    "    'Metric': ['Total Exposure', 'RWA', 'Tier 1 Capital', 'Total Capital', 'With Buffer'],\n",
    "    'Normal': [total_exposure, total_rwa, min_tier1_capital, \n",
    "              min_total_capital, min_capital_with_buffer],\n",
    "    'Stressed': [total_exposure, total_stressed_rwa, stressed_min_tier1_capital,\n",
    "                stressed_min_total_capital, stressed_min_capital_with_buffer]\n",
    "})"
   ]
  },
  {
   "cell_type": "code",
   "execution_count": 16,
   "metadata": {},
   "outputs": [],
   "source": [
    "stress_results.to_csv('../data/processed/stress_test_results.csv', index=False)"
   ]
  },
  {
   "cell_type": "code",
   "execution_count": null,
   "metadata": {},
   "outputs": [],
   "source": []
  }
 ],
 "metadata": {
  "kernelspec": {
   "display_name": "Python 3",
   "language": "python",
   "name": "python3"
  },
  "language_info": {
   "codemirror_mode": {
    "name": "ipython",
    "version": 3
   },
   "file_extension": ".py",
   "mimetype": "text/x-python",
   "name": "python",
   "nbconvert_exporter": "python",
   "pygments_lexer": "ipython3",
   "version": "3.11.9"
  }
 },
 "nbformat": 4,
 "nbformat_minor": 2
}
